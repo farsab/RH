{
 "cells": [
  {
   "cell_type": "code",
   "execution_count": 1,
   "id": "3bd090dd",
   "metadata": {},
   "outputs": [],
   "source": [
    "import Tools.Sliding_window as SW\n",
    "from PIL import Image\n",
    "import numpy as np\n",
    "import cv2\n",
    "import matplotlib.pyplot as plt\n",
    "import pywt\n",
    "from Tools import DWT\n",
    "%matplotlib inline\n",
    "plt.rcParams['figure.figsize'] = (20.0, 7.0)\n"
   ]
  },
  {
   "cell_type": "code",
   "execution_count": 7,
   "id": "8239adfb",
   "metadata": {},
   "outputs": [],
   "source": [
    "im_path=['query.jpg']\n",
    "\n",
    "for imp in im_path:\n",
    "    wSlid=DWT.windows_comput(imp,block_num=8)\n",
    "    binCode=DWT.DWT_hash_compute(wSlid)\n",
    "    hashCode=DWT.bin_dec(binCode)\n",
    "    binC_p1,binC_p2=DWT.bin_two_parts(binCode)\n"
   ]
  }
 ],
 "metadata": {
  "kernelspec": {
   "display_name": "Python 3 (ipykernel)",
   "language": "python",
   "name": "python3"
  },
  "language_info": {
   "codemirror_mode": {
    "name": "ipython",
    "version": 3
   },
   "file_extension": ".py",
   "mimetype": "text/x-python",
   "name": "python",
   "nbconvert_exporter": "python",
   "pygments_lexer": "ipython3",
   "version": "3.10.4"
  }
 },
 "nbformat": 4,
 "nbformat_minor": 5
}
