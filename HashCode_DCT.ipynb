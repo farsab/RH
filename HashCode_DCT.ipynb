{
 "cells": [
  {
   "cell_type": "markdown",
   "id": "aa480da9",
   "metadata": {},
   "source": [
    "# Test DCT hash computation individually"
   ]
  },
  {
   "cell_type": "code",
   "execution_count": 10,
   "id": "3bd090dd",
   "metadata": {},
   "outputs": [],
   "source": [
    "from Tools import DCT\n"
   ]
  },
  {
   "cell_type": "code",
   "execution_count": 12,
   "id": "161053f1",
   "metadata": {},
   "outputs": [],
   "source": [
    "im_path=['H:/ARP_Code/dataset/oxfrd/train/all_souls/all_souls_000053.jpg']\n",
    "\n",
    "for imp in im_path:\n",
    "    wSlid=DCT.windows_comput(imp)\n",
    "    binCode=DCT.DCT_hash_compute(wSlid)\n",
    "    hashCode=DCT.bin_dec(binCode)\n"
   ]
  }
 ],
 "metadata": {
  "kernelspec": {
   "display_name": "Python 3 (ipykernel)",
   "language": "python",
   "name": "python3"
  },
  "language_info": {
   "codemirror_mode": {
    "name": "ipython",
    "version": 3
   },
   "file_extension": ".py",
   "mimetype": "text/x-python",
   "name": "python",
   "nbconvert_exporter": "python",
   "pygments_lexer": "ipython3",
   "version": "3.10.4"
  }
 },
 "nbformat": 4,
 "nbformat_minor": 5
}
