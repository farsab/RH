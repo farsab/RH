{
 "cells": [
  {
   "cell_type": "code",
   "execution_count": null,
   "id": "3b9668e5",
   "metadata": {},
   "outputs": [],
   "source": [
    "# Test DCT and DWT hash codes and store in a pickle file"
   ]
  },
  {
   "cell_type": "code",
   "execution_count": 1,
   "id": "3bd090dd",
   "metadata": {},
   "outputs": [],
   "source": [
    "from Tools import DCT\n",
    "from Tools import DWT\n",
    "import os\n",
    "import pandas as pd\n",
    "import random\n",
    "from tqdm import tqdm\n",
    "import warnings\n",
    "warnings.simplefilter(action='ignore', category=FutureWarning)\n"
   ]
  },
  {
   "cell_type": "code",
   "execution_count": 2,
   "id": "8959fbd3",
   "metadata": {},
   "outputs": [],
   "source": [
    "names_test=['dataset/test_folder/'+a for a in os.listdir('dataset/test_folder')]\n",
    "class_names=[]  # Put class names in this list\n",
    "df_hash_testset = pd.DataFrame(columns=['index', 'filename', 'DCT','DWT_L','DWT_R'])"
   ]
  },
  {
   "cell_type": "code",
   "execution_count": 3,
   "id": "161053f1",
   "metadata": {},
   "outputs": [
    {
     "name": "stderr",
     "output_type": "stream",
     "text": [
      "100%|██████████| 515/515 [02:46<00:00,  3.10it/s]\n"
     ]
    }
   ],
   "source": [
    "im_path=names_test\n",
    "idx=0\n",
    "for imp in tqdm(im_path):\n",
    "    wSlid_DCT=DCT.windows_comput(imp)\n",
    "    binCode_DCT=DCT.DCT_hash_compute(wSlid_DCT)\n",
    "    hashCode_DCT=DCT.bin_dec(binCode_DCT)\n",
    "    wSlid_DWT=DWT.windows_comput(imp,block_num=8)\n",
    "    binCode_DWT=DWT.DWT_hash_compute(wSlid_DWT)\n",
    "    hashCode_DWT=DWT.bin_dec(binCode_DWT)\n",
    "    binCode_DWTp1,binCode_DWTp2=DWT.bin_two_parts(binCode_DWT)\n",
    "    hashCode_DWTp1=DWT.bin_dec(binCode_DWTp1)\n",
    "    hashCode_DWTp2=DWT.bin_dec(binCode_DWTp2)\n",
    "    df_hash_testset = df_hash_testset.append({'index': idx, 'filename':imp,'DCT':hashCode_DCT,\n",
    "                                                'DWT_L':hashCode_DWTp1,'DWT_R':hashCode_DWTp2}, ignore_index=True)\n",
    "    idx += 1\n",
    "\n"
   ]
  },
  {
   "cell_type": "code",
   "execution_count": 5,
   "id": "a0f835dc",
   "metadata": {},
   "outputs": [],
   "source": [
    "df_hash_testset.to_pickle(\"testset_DCT_DWT.pkl\")\n"
   ]
  }
 ],
 "metadata": {
  "kernelspec": {
   "display_name": "Python 3 (ipykernel)",
   "language": "python",
   "name": "python3"
  },
  "language_info": {
   "codemirror_mode": {
    "name": "ipython",
    "version": 3
   },
   "file_extension": ".py",
   "mimetype": "text/x-python",
   "name": "python",
   "nbconvert_exporter": "python",
   "pygments_lexer": "ipython3",
   "version": "3.10.4"
  }
 },
 "nbformat": 4,
 "nbformat_minor": 5
}
